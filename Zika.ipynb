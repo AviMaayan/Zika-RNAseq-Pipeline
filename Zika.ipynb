{
 "cells": [
  {
   "cell_type": "markdown",
   "metadata": {},
   "source": [
    "# RNA-Seq data analysis pipeline: an example of processing a Zika virus (ZIKV) study from NCBI's GEO\n",
    "\n",
    "_Zichen Wang_ and _Avi Ma'ayan_\n",
    "\n",
    "There is currently only one study that profiled gene expression changes due to Zika virus of human cells within NCBI's Gene Expression Omnibus (GEO) [GSE78711](http://www.ncbi.nlm.nih.gov/geo/query/acc.cgi?acc=GSE78711). In this study human iPSCs differentiated into neuronal progenotors were infected with ZIKV and gene exprssion was profiled with RNA-seq by two platforms each repeated twice for a total of eight samples. The first step is to read carefully the description about the study, the samples, the associated publication. The next step is to extract the following information:\n",
    "\n",
    "`GSE=GSE78711`\n",
    "\n",
    "`GPL=GPL18573`\n",
    "\n",
    "`control_ids = [GSM2073121, GSM2073122, GSM2075585, GSM2075586]`\n",
    "\n",
    "`perturbation_ids = [GSM2073123, GSM2073124, GSM2075587, GSM2075588]`\n"
   ]
  },
  {
   "cell_type": "code",
   "execution_count": 1,
   "metadata": {
    "collapsed": true
   },
   "outputs": [],
   "source": [
    "import numpy as np\n",
    "import pandas as pd"
   ]
  },
  {
   "cell_type": "code",
   "execution_count": 2,
   "metadata": {
    "collapsed": true
   },
   "outputs": [],
   "source": [
    "## Assign the 4 variables gse for study, gpl for platform, \n",
    "## ctrl_ids for un-perturbed samples, pert_ids for treatment samples.\n",
    "## Make sure that there are at least two samples in each group.\n",
    "gse = 'GSE78711'\n",
    "gpl = 'GPL18573'\n",
    "ctrl_ids = ['GSM2073121', 'GSM2073122', 'GSM2075585', 'GSM2075586']\n",
    "pert_ids = ['GSM2073123', 'GSM2073124', 'GSM2075587', 'GSM2075588']"
   ]
  },
  {
   "cell_type": "code",
   "execution_count": 3,
   "metadata": {
    "collapsed": false
   },
   "outputs": [],
   "source": [
    "## download the processed file, this file provides some metadata about the samples.\n",
    "# !wget ftp://ftp.ncbi.nlm.nih.gov/geo/series/GSE78nnn/GSE78711/suppl/GSE78711_Table.S2A.reads_R1.xlsx"
   ]
  },
  {
   "cell_type": "code",
   "execution_count": 4,
   "metadata": {
    "collapsed": false
   },
   "outputs": [
    {
     "data": {
      "text/html": [
       "<div style=\"max-height:1000px;max-width:1500px;overflow:auto;\">\n",
       "<table border=\"1\" class=\"dataframe\">\n",
       "  <thead>\n",
       "    <tr style=\"text-align: right;\">\n",
       "      <th></th>\n",
       "      <th>Sample</th>\n",
       "      <th>Seq reads coverage (million)</th>\n",
       "      <th>Mapped ratio</th>\n",
       "      <th>Seq method</th>\n",
       "    </tr>\n",
       "  </thead>\n",
       "  <tbody>\n",
       "    <tr>\n",
       "      <th>0</th>\n",
       "      <td>Mock1-1</td>\n",
       "      <td>15.8</td>\n",
       "      <td>90.7% concordant pair alignment rate</td>\n",
       "      <td>Pair-end</td>\n",
       "    </tr>\n",
       "    <tr>\n",
       "      <th>1</th>\n",
       "      <td>Mock2-1</td>\n",
       "      <td>14.8</td>\n",
       "      <td>88.8% concordant pair alignment rate</td>\n",
       "      <td>Pair-end</td>\n",
       "    </tr>\n",
       "    <tr>\n",
       "      <th>2</th>\n",
       "      <td>ZIKV1-1</td>\n",
       "      <td>14.6</td>\n",
       "      <td>90.2% concordant pair alignment rate</td>\n",
       "      <td>Pair-end</td>\n",
       "    </tr>\n",
       "    <tr>\n",
       "      <th>3</th>\n",
       "      <td>ZIKV2-1</td>\n",
       "      <td>15.2</td>\n",
       "      <td>89.9% concordant pair alignment rate</td>\n",
       "      <td>Pair-end</td>\n",
       "    </tr>\n",
       "    <tr>\n",
       "      <th>4</th>\n",
       "      <td>Mock1-2</td>\n",
       "      <td>72.0</td>\n",
       "      <td>89.5% overall read mapping rate</td>\n",
       "      <td>Single-end</td>\n",
       "    </tr>\n",
       "    <tr>\n",
       "      <th>5</th>\n",
       "      <td>Mock2-2</td>\n",
       "      <td>92.0</td>\n",
       "      <td>89.4% overall read mapping rate</td>\n",
       "      <td>Single-end</td>\n",
       "    </tr>\n",
       "    <tr>\n",
       "      <th>6</th>\n",
       "      <td>ZIKV1-2</td>\n",
       "      <td>75.0</td>\n",
       "      <td>88.5% overall read mapping rate</td>\n",
       "      <td>Single-end</td>\n",
       "    </tr>\n",
       "    <tr>\n",
       "      <th>7</th>\n",
       "      <td>ZIKV2-2</td>\n",
       "      <td>66.0</td>\n",
       "      <td>88.2% overall read mapping rate</td>\n",
       "      <td>Single-end</td>\n",
       "    </tr>\n",
       "  </tbody>\n",
       "</table>\n",
       "</div>"
      ],
      "text/plain": [
       "    Sample  Seq reads coverage (million)  \\\n",
       "0  Mock1-1                          15.8   \n",
       "1  Mock2-1                          14.8   \n",
       "2  ZIKV1-1                          14.6   \n",
       "3  ZIKV2-1                          15.2   \n",
       "4  Mock1-2                          72.0   \n",
       "5  Mock2-2                          92.0   \n",
       "6  ZIKV1-2                          75.0   \n",
       "7  ZIKV2-2                          66.0   \n",
       "\n",
       "                           Mapped ratio  Seq method  \n",
       "0  90.7% concordant pair alignment rate    Pair-end  \n",
       "1  88.8% concordant pair alignment rate    Pair-end  \n",
       "2  90.2% concordant pair alignment rate    Pair-end  \n",
       "3  89.9% concordant pair alignment rate    Pair-end  \n",
       "4       89.5% overall read mapping rate  Single-end  \n",
       "5       89.4% overall read mapping rate  Single-end  \n",
       "6       88.5% overall read mapping rate  Single-end  \n",
       "7       88.2% overall read mapping rate  Single-end  "
      ]
     },
     "execution_count": 4,
     "metadata": {},
     "output_type": "execute_result"
    }
   ],
   "source": [
    "df = pd.read_excel('../GSE78711_Table.S2A.reads_R1.xlsx')\n",
    "df"
   ]
  },
  {
   "cell_type": "code",
   "execution_count": 5,
   "metadata": {
    "collapsed": false
   },
   "outputs": [],
   "source": [
    "# Download the SRA files\n",
    "# This bash script is commented out here, because we don't want to download the files every time.\n",
    "# !wget -r ftp://ftp-trace.ncbi.nlm.nih.gov/sra/sra-instant/reads/ByStudy/sra/SRP%2FSRP070%2FSRP070895/*"
   ]
  },
  {
   "cell_type": "markdown",
   "metadata": {
    "collapsed": true
   },
   "source": [
    "### Downloaded SRA files were processed in the following steps:\n",
    "1. `fastq-dump` in the SRA-toolkit to generate .fastq files\n",
    "2. `STAR` for the read alignment\n",
    "3. `featureCounts` for assigning reads to genes\n",
    "4. `edgeR` Bioconductor package were used to compute CPM and RPKM\n",
    "---\n",
    "Steps 1-3 were processed by [`analyze_sra.sh`](https://github.com/MaayanLab/Zika-RNAseq-Pipeline/blob/master/analyze_sra.sh)\n",
    "\n",
    "Step 4 were done by [`normalize.R`](https://github.com/MaayanLab/Zika-RNAseq-Pipeline/blob/master/normalize.R)\n",
    "\n",
    "---\n",
    "After the above steps, we can start to analyze the processed expression matrix of genes in Python"
   ]
  },
  {
   "cell_type": "code",
   "execution_count": 6,
   "metadata": {
    "collapsed": false
   },
   "outputs": [
    {
     "name": "stdout",
     "output_type": "stream",
     "text": [
      "==> ../featureCount_output/SRR3191542.count.txt.summary <==\r\n",
      "Status\t/home/maayanlab/Zika/star_output/SRR3191542Aligned.sortedByCoord.out.bam\r\n",
      "Assigned\t10859768\r\n",
      "Unassigned_Ambiguity\t277433\r\n",
      "Unassigned_MultiMapping\t1315262\r\n",
      "Unassigned_NoFeatures\t3658745\r\n",
      "Unassigned_Unmapped\t0\r\n",
      "Unassigned_MappingQuality\t0\r\n",
      "Unassigned_FragementLength\t0\r\n",
      "Unassigned_Chimera\t0\r\n",
      "Unassigned_Secondary\t0\r\n",
      "\r\n",
      "==> ../featureCount_output/SRR3191543.count.txt.summary <==\r\n",
      "Status\t/home/maayanlab/Zika/star_output/SRR3191543Aligned.sortedByCoord.out.bam\r\n",
      "Assigned\t10167142\r\n",
      "Unassigned_Ambiguity\t264366\r\n",
      "Unassigned_MultiMapping\t1229314\r\n",
      "Unassigned_NoFeatures\t3217017\r\n",
      "Unassigned_Unmapped\t0\r\n",
      "Unassigned_MappingQuality\t0\r\n",
      "Unassigned_FragementLength\t0\r\n",
      "Unassigned_Chimera\t0\r\n",
      "Unassigned_Secondary\t0\r\n",
      "\r\n",
      "==> ../featureCount_output/SRR3191544.count.txt.summary <==\r\n",
      "Status\t/home/maayanlab/Zika/star_output/SRR3191544Aligned.sortedByCoord.out.bam\r\n",
      "Assigned\t10024864\r\n",
      "Unassigned_Ambiguity\t243520\r\n",
      "Unassigned_MultiMapping\t1148955\r\n",
      "Unassigned_NoFeatures\t3421617\r\n",
      "Unassigned_Unmapped\t0\r\n",
      "Unassigned_MappingQuality\t0\r\n",
      "Unassigned_FragementLength\t0\r\n",
      "Unassigned_Chimera\t0\r\n",
      "Unassigned_Secondary\t0\r\n",
      "\r\n",
      "==> ../featureCount_output/SRR3191545.count.txt.summary <==\r\n",
      "Status\t/home/maayanlab/Zika/star_output/SRR3191545Aligned.sortedByCoord.out.bam\r\n",
      "Assigned\t10340131\r\n",
      "Unassigned_Ambiguity\t248114\r\n",
      "Unassigned_MultiMapping\t1177805\r\n",
      "Unassigned_NoFeatures\t3531209\r\n",
      "Unassigned_Unmapped\t0\r\n",
      "Unassigned_MappingQuality\t0\r\n",
      "Unassigned_FragementLength\t0\r\n",
      "Unassigned_Chimera\t0\r\n",
      "Unassigned_Secondary\t0\r\n",
      "\r\n",
      "==> ../featureCount_output/SRR3194428.count.txt.summary <==\r\n",
      "Status\t/home/maayanlab/Zika/star_output/SRR3194428Aligned.sortedByCoord.out.bam\r\n",
      "Assigned\t48156708\r\n",
      "Unassigned_Ambiguity\t1115286\r\n",
      "Unassigned_MultiMapping\t12147267\r\n",
      "Unassigned_NoFeatures\t17063220\r\n",
      "Unassigned_Unmapped\t0\r\n",
      "Unassigned_MappingQuality\t0\r\n",
      "Unassigned_FragementLength\t0\r\n",
      "Unassigned_Chimera\t0\r\n",
      "Unassigned_Secondary\t0\r\n",
      "\r\n",
      "==> ../featureCount_output/SRR3194429.count.txt.summary <==\r\n",
      "Status\t/home/maayanlab/Zika/star_output/SRR3194429Aligned.sortedByCoord.out.bam\r\n",
      "Assigned\t63286307\r\n",
      "Unassigned_Ambiguity\t1498833\r\n",
      "Unassigned_MultiMapping\t15919347\r\n",
      "Unassigned_NoFeatures\t21139073\r\n",
      "Unassigned_Unmapped\t0\r\n",
      "Unassigned_MappingQuality\t0\r\n",
      "Unassigned_FragementLength\t0\r\n",
      "Unassigned_Chimera\t0\r\n",
      "Unassigned_Secondary\t0\r\n",
      "\r\n",
      "==> ../featureCount_output/SRR3194430.count.txt.summary <==\r\n",
      "Status\t/home/maayanlab/Zika/star_output/SRR3194430Aligned.sortedByCoord.out.bam\r\n",
      "Assigned\t49763125\r\n",
      "Unassigned_Ambiguity\t1096905\r\n",
      "Unassigned_MultiMapping\t11709443\r\n",
      "Unassigned_NoFeatures\t18278125\r\n",
      "Unassigned_Unmapped\t0\r\n",
      "Unassigned_MappingQuality\t0\r\n",
      "Unassigned_FragementLength\t0\r\n",
      "Unassigned_Chimera\t0\r\n",
      "Unassigned_Secondary\t0\r\n",
      "\r\n",
      "==> ../featureCount_output/SRR3194431.count.txt.summary <==\r\n",
      "Status\t/home/maayanlab/Zika/star_output/SRR3194431Aligned.sortedByCoord.out.bam\r\n",
      "Assigned\t43391323\r\n",
      "Unassigned_Ambiguity\t952301\r\n",
      "Unassigned_MultiMapping\t10127586\r\n",
      "Unassigned_NoFeatures\t15864823\r\n",
      "Unassigned_Unmapped\t0\r\n",
      "Unassigned_MappingQuality\t0\r\n",
      "Unassigned_FragementLength\t0\r\n",
      "Unassigned_Chimera\t0\r\n",
      "Unassigned_Secondary\t0\r\n"
     ]
    }
   ],
   "source": [
    "## Check the alignment stats\n",
    "## This will output the first 10 lines of all summary files from featureCounts\n",
    "!head ../featureCount_output/*.summary "
   ]
  },
  {
   "cell_type": "code",
   "execution_count": 7,
   "metadata": {
    "collapsed": false
   },
   "outputs": [
    {
     "data": {
      "text/html": [
       "<div style=\"max-height:1000px;max-width:1500px;overflow:auto;\">\n",
       "<table border=\"1\" class=\"dataframe\">\n",
       "  <thead>\n",
       "    <tr style=\"text-align: right;\">\n",
       "      <th></th>\n",
       "      <th>SRR3191542</th>\n",
       "      <th>SRR3191543</th>\n",
       "      <th>SRR3191544</th>\n",
       "      <th>SRR3191545</th>\n",
       "      <th>SRR3194428</th>\n",
       "      <th>SRR3194429</th>\n",
       "      <th>SRR3194430</th>\n",
       "      <th>SRR3194431</th>\n",
       "    </tr>\n",
       "    <tr>\n",
       "      <th>Unnamed: 0</th>\n",
       "      <th></th>\n",
       "      <th></th>\n",
       "      <th></th>\n",
       "      <th></th>\n",
       "      <th></th>\n",
       "      <th></th>\n",
       "      <th></th>\n",
       "      <th></th>\n",
       "    </tr>\n",
       "  </thead>\n",
       "  <tbody>\n",
       "    <tr>\n",
       "      <th>DDX11L1</th>\n",
       "      <td>0.000000</td>\n",
       "      <td>0.000000</td>\n",
       "      <td>0.199504</td>\n",
       "      <td>0.00000</td>\n",
       "      <td>0.000000</td>\n",
       "      <td>0.000000</td>\n",
       "      <td>0.020095</td>\n",
       "      <td>0.000000</td>\n",
       "    </tr>\n",
       "    <tr>\n",
       "      <th>WASH7P</th>\n",
       "      <td>16.759106</td>\n",
       "      <td>18.097515</td>\n",
       "      <td>17.057588</td>\n",
       "      <td>23.59738</td>\n",
       "      <td>2.491865</td>\n",
       "      <td>2.907422</td>\n",
       "      <td>2.190377</td>\n",
       "      <td>2.396793</td>\n",
       "    </tr>\n",
       "    <tr>\n",
       "      <th>MIR6859-2</th>\n",
       "      <td>0.000000</td>\n",
       "      <td>0.000000</td>\n",
       "      <td>0.000000</td>\n",
       "      <td>0.00000</td>\n",
       "      <td>0.000000</td>\n",
       "      <td>0.000000</td>\n",
       "      <td>0.000000</td>\n",
       "      <td>0.000000</td>\n",
       "    </tr>\n",
       "    <tr>\n",
       "      <th>MIR6859-1</th>\n",
       "      <td>0.000000</td>\n",
       "      <td>0.000000</td>\n",
       "      <td>0.000000</td>\n",
       "      <td>0.00000</td>\n",
       "      <td>0.000000</td>\n",
       "      <td>0.000000</td>\n",
       "      <td>0.000000</td>\n",
       "      <td>0.000000</td>\n",
       "    </tr>\n",
       "    <tr>\n",
       "      <th>FAM138A</th>\n",
       "      <td>0.000000</td>\n",
       "      <td>0.000000</td>\n",
       "      <td>0.000000</td>\n",
       "      <td>0.00000</td>\n",
       "      <td>0.000000</td>\n",
       "      <td>0.000000</td>\n",
       "      <td>0.000000</td>\n",
       "      <td>0.000000</td>\n",
       "    </tr>\n",
       "  </tbody>\n",
       "</table>\n",
       "</div>"
      ],
      "text/plain": [
       "            SRR3191542  SRR3191543  SRR3191544  SRR3191545  SRR3194428  \\\n",
       "Unnamed: 0                                                               \n",
       "DDX11L1       0.000000    0.000000    0.199504     0.00000    0.000000   \n",
       "WASH7P       16.759106   18.097515   17.057588    23.59738    2.491865   \n",
       "MIR6859-2     0.000000    0.000000    0.000000     0.00000    0.000000   \n",
       "MIR6859-1     0.000000    0.000000    0.000000     0.00000    0.000000   \n",
       "FAM138A       0.000000    0.000000    0.000000     0.00000    0.000000   \n",
       "\n",
       "            SRR3194429  SRR3194430  SRR3194431  \n",
       "Unnamed: 0                                      \n",
       "DDX11L1       0.000000    0.020095    0.000000  \n",
       "WASH7P        2.907422    2.190377    2.396793  \n",
       "MIR6859-2     0.000000    0.000000    0.000000  \n",
       "MIR6859-1     0.000000    0.000000    0.000000  \n",
       "FAM138A       0.000000    0.000000    0.000000  "
      ]
     },
     "execution_count": 7,
     "metadata": {},
     "output_type": "execute_result"
    }
   ],
   "source": [
    "## load the expression matrix\n",
    "expr_df = pd.read_csv('../repCpmMatrix_featureCounts.csv')\n",
    "expr_df = expr_df.set_index(expr_df.columns[0])\n",
    "expr_df.head()"
   ]
  },
  {
   "cell_type": "code",
   "execution_count": 8,
   "metadata": {
    "collapsed": false
   },
   "outputs": [
    {
     "name": "stdout",
     "output_type": "stream",
     "text": [
      "(25370, 8)\n"
     ]
    }
   ],
   "source": [
    "print expr_df.shape"
   ]
  },
  {
   "cell_type": "code",
   "execution_count": 9,
   "metadata": {
    "collapsed": false
   },
   "outputs": [
    {
     "name": "stdout",
     "output_type": "stream",
     "text": [
      "(21983, 8)\n",
      "(16242, 8)\n"
     ]
    }
   ],
   "source": [
    "## filter out non-expressed genes\n",
    "expr_df = expr_df.loc[expr_df.sum(axis=1) > 0, :]\n",
    "print expr_df.shape\n",
    "\n",
    "## filter out lowly expressed genes\n",
    "mask_low_vals = (expr_df > 0.3).sum(axis=1) > 2\n",
    "expr_df = expr_df.loc[mask_low_vals, :]\n",
    "\n",
    "print expr_df.shape"
   ]
  },
  {
   "cell_type": "markdown",
   "metadata": {},
   "source": [
    "We found this a `RunInfo Table` on the SRP page available in this URL [http://www.ncbi.nlm.nih.gov/Traces/study/?acc=SRP070895](http://www.ncbi.nlm.nih.gov/Traces/study/?acc=SRP070895). There is a button called 'RunInfo Table'. Clicking on this button you can obtain a spreadsheet with additional metadata. Next we read this file and extract the relavant variables from it."
   ]
  },
  {
   "cell_type": "code",
   "execution_count": 10,
   "metadata": {
    "collapsed": false
   },
   "outputs": [
    {
     "name": "stdout",
     "output_type": "stream",
     "text": [
      "(8, 27)\n"
     ]
    },
    {
     "data": {
      "text/html": [
       "<div style=\"max-height:1000px;max-width:1500px;overflow:auto;\">\n",
       "<table border=\"1\" class=\"dataframe\">\n",
       "  <thead>\n",
       "    <tr style=\"text-align: right;\">\n",
       "      <th></th>\n",
       "      <th>BioSample_s</th>\n",
       "      <th>Experiment_s</th>\n",
       "      <th>LibraryLayout_s</th>\n",
       "      <th>LoadDate_s</th>\n",
       "      <th>MBases_l</th>\n",
       "      <th>MBytes_l</th>\n",
       "      <th>SRA_Sample_s</th>\n",
       "      <th>Sample_Name_s</th>\n",
       "      <th>infection_status_s</th>\n",
       "      <th>Assay_Type_s</th>\n",
       "      <th>...</th>\n",
       "      <th>Library_Name_s</th>\n",
       "      <th>Organism_s</th>\n",
       "      <th>Platform_s</th>\n",
       "      <th>ReleaseDate_s</th>\n",
       "      <th>SRA_Study_s</th>\n",
       "      <th>cell_type_s</th>\n",
       "      <th>g1k_analysis_group_s</th>\n",
       "      <th>g1k_pop_code_s</th>\n",
       "      <th>source_s</th>\n",
       "      <th>source_name_s</th>\n",
       "    </tr>\n",
       "  </thead>\n",
       "  <tbody>\n",
       "    <tr>\n",
       "      <th>SRR3191542</th>\n",
       "      <td>SAMN04517925</td>\n",
       "      <td>SRX1602854</td>\n",
       "      <td>PAIRED</td>\n",
       "      <td>2016-02-26</td>\n",
       "      <td>1141</td>\n",
       "      <td>464</td>\n",
       "      <td>SRS1312741</td>\n",
       "      <td>GSM2073121</td>\n",
       "      <td>mock infected</td>\n",
       "      <td>RNA-Seq</td>\n",
       "      <td>...</td>\n",
       "      <td>&lt;not provided&gt;</td>\n",
       "      <td>Homo sapiens</td>\n",
       "      <td>ILLUMINA</td>\n",
       "      <td>2016-03-04</td>\n",
       "      <td>SRP070895</td>\n",
       "      <td>Neural Progenitor cells</td>\n",
       "      <td>&lt;not provided&gt;</td>\n",
       "      <td>&lt;not provided&gt;</td>\n",
       "      <td>&lt;not provided&gt;</td>\n",
       "      <td>human Neural Progenitor cells</td>\n",
       "    </tr>\n",
       "    <tr>\n",
       "      <th>SRR3191543</th>\n",
       "      <td>SAMN04517926</td>\n",
       "      <td>SRX1602855</td>\n",
       "      <td>PAIRED</td>\n",
       "      <td>2016-02-26</td>\n",
       "      <td>1063</td>\n",
       "      <td>443</td>\n",
       "      <td>SRS1312740</td>\n",
       "      <td>GSM2073122</td>\n",
       "      <td>mock infected</td>\n",
       "      <td>RNA-Seq</td>\n",
       "      <td>...</td>\n",
       "      <td>&lt;not provided&gt;</td>\n",
       "      <td>Homo sapiens</td>\n",
       "      <td>ILLUMINA</td>\n",
       "      <td>2016-03-04</td>\n",
       "      <td>SRP070895</td>\n",
       "      <td>Neural Progenitor cells</td>\n",
       "      <td>&lt;not provided&gt;</td>\n",
       "      <td>&lt;not provided&gt;</td>\n",
       "      <td>&lt;not provided&gt;</td>\n",
       "      <td>human Neural Progenitor cells</td>\n",
       "    </tr>\n",
       "    <tr>\n",
       "      <th>SRR3191544</th>\n",
       "      <td>SAMN04517927</td>\n",
       "      <td>SRX1602856</td>\n",
       "      <td>PAIRED</td>\n",
       "      <td>2016-02-26</td>\n",
       "      <td>1059</td>\n",
       "      <td>429</td>\n",
       "      <td>SRS1312738</td>\n",
       "      <td>GSM2073123</td>\n",
       "      <td>Zika infected</td>\n",
       "      <td>RNA-Seq</td>\n",
       "      <td>...</td>\n",
       "      <td>&lt;not provided&gt;</td>\n",
       "      <td>Homo sapiens</td>\n",
       "      <td>ILLUMINA</td>\n",
       "      <td>2016-03-04</td>\n",
       "      <td>SRP070895</td>\n",
       "      <td>Neural Progenitor cells</td>\n",
       "      <td>&lt;not provided&gt;</td>\n",
       "      <td>&lt;not provided&gt;</td>\n",
       "      <td>&lt;not provided&gt;</td>\n",
       "      <td>human Neural Progenitor cells</td>\n",
       "    </tr>\n",
       "    <tr>\n",
       "      <th>SRR3191545</th>\n",
       "      <td>SAMN04517928</td>\n",
       "      <td>SRX1602857</td>\n",
       "      <td>PAIRED</td>\n",
       "      <td>2016-02-26</td>\n",
       "      <td>1095</td>\n",
       "      <td>445</td>\n",
       "      <td>SRS1312739</td>\n",
       "      <td>GSM2073124</td>\n",
       "      <td>Zika infected</td>\n",
       "      <td>RNA-Seq</td>\n",
       "      <td>...</td>\n",
       "      <td>&lt;not provided&gt;</td>\n",
       "      <td>Homo sapiens</td>\n",
       "      <td>ILLUMINA</td>\n",
       "      <td>2016-03-04</td>\n",
       "      <td>SRP070895</td>\n",
       "      <td>Neural Progenitor cells</td>\n",
       "      <td>&lt;not provided&gt;</td>\n",
       "      <td>&lt;not provided&gt;</td>\n",
       "      <td>&lt;not provided&gt;</td>\n",
       "      <td>human Neural Progenitor cells</td>\n",
       "    </tr>\n",
       "    <tr>\n",
       "      <th>SRR3194428</th>\n",
       "      <td>SAMN04521221</td>\n",
       "      <td>SRX1605077</td>\n",
       "      <td>SINGLE</td>\n",
       "      <td>2016-02-29</td>\n",
       "      <td>5248</td>\n",
       "      <td>2383</td>\n",
       "      <td>SRS1314803</td>\n",
       "      <td>GSM2075585</td>\n",
       "      <td>mock infected</td>\n",
       "      <td>RNA-Seq</td>\n",
       "      <td>...</td>\n",
       "      <td>&lt;not provided&gt;</td>\n",
       "      <td>Homo sapiens</td>\n",
       "      <td>ILLUMINA</td>\n",
       "      <td>2016-03-04</td>\n",
       "      <td>SRP070895</td>\n",
       "      <td>Neural Progenitor cells</td>\n",
       "      <td>&lt;not provided&gt;</td>\n",
       "      <td>&lt;not provided&gt;</td>\n",
       "      <td>&lt;not provided&gt;</td>\n",
       "      <td>human Neural Progenitor cells</td>\n",
       "    </tr>\n",
       "    <tr>\n",
       "      <th>SRR3194429</th>\n",
       "      <td>SAMN04521222</td>\n",
       "      <td>SRX1605078</td>\n",
       "      <td>SINGLE</td>\n",
       "      <td>2016-02-29</td>\n",
       "      <td>6806</td>\n",
       "      <td>3092</td>\n",
       "      <td>SRS1314802</td>\n",
       "      <td>GSM2075586</td>\n",
       "      <td>mock infected</td>\n",
       "      <td>RNA-Seq</td>\n",
       "      <td>...</td>\n",
       "      <td>&lt;not provided&gt;</td>\n",
       "      <td>Homo sapiens</td>\n",
       "      <td>ILLUMINA</td>\n",
       "      <td>2016-03-04</td>\n",
       "      <td>SRP070895</td>\n",
       "      <td>Neural Progenitor cells</td>\n",
       "      <td>&lt;not provided&gt;</td>\n",
       "      <td>&lt;not provided&gt;</td>\n",
       "      <td>&lt;not provided&gt;</td>\n",
       "      <td>human Neural Progenitor cells</td>\n",
       "    </tr>\n",
       "    <tr>\n",
       "      <th>SRR3194430</th>\n",
       "      <td>SAMN04521223</td>\n",
       "      <td>SRX1605079</td>\n",
       "      <td>SINGLE</td>\n",
       "      <td>2016-02-29</td>\n",
       "      <td>5481</td>\n",
       "      <td>2495</td>\n",
       "      <td>SRS1314801</td>\n",
       "      <td>GSM2075587</td>\n",
       "      <td>Zika infected</td>\n",
       "      <td>RNA-Seq</td>\n",
       "      <td>...</td>\n",
       "      <td>&lt;not provided&gt;</td>\n",
       "      <td>Homo sapiens</td>\n",
       "      <td>ILLUMINA</td>\n",
       "      <td>2016-03-04</td>\n",
       "      <td>SRP070895</td>\n",
       "      <td>Neural Progenitor cells</td>\n",
       "      <td>&lt;not provided&gt;</td>\n",
       "      <td>&lt;not provided&gt;</td>\n",
       "      <td>&lt;not provided&gt;</td>\n",
       "      <td>human Neural Progenitor cells</td>\n",
       "    </tr>\n",
       "    <tr>\n",
       "      <th>SRR3194431</th>\n",
       "      <td>SAMN04521224</td>\n",
       "      <td>SRX1605080</td>\n",
       "      <td>SINGLE</td>\n",
       "      <td>2016-02-29</td>\n",
       "      <td>4776</td>\n",
       "      <td>2181</td>\n",
       "      <td>SRS1314800</td>\n",
       "      <td>GSM2075588</td>\n",
       "      <td>Zika infected</td>\n",
       "      <td>RNA-Seq</td>\n",
       "      <td>...</td>\n",
       "      <td>&lt;not provided&gt;</td>\n",
       "      <td>Homo sapiens</td>\n",
       "      <td>ILLUMINA</td>\n",
       "      <td>2016-03-04</td>\n",
       "      <td>SRP070895</td>\n",
       "      <td>Neural Progenitor cells</td>\n",
       "      <td>&lt;not provided&gt;</td>\n",
       "      <td>&lt;not provided&gt;</td>\n",
       "      <td>&lt;not provided&gt;</td>\n",
       "      <td>human Neural Progenitor cells</td>\n",
       "    </tr>\n",
       "  </tbody>\n",
       "</table>\n",
       "<p>8 rows × 27 columns</p>\n",
       "</div>"
      ],
      "text/plain": [
       "             BioSample_s Experiment_s LibraryLayout_s  LoadDate_s  MBases_l  \\\n",
       "SRR3191542  SAMN04517925   SRX1602854          PAIRED  2016-02-26      1141   \n",
       "SRR3191543  SAMN04517926   SRX1602855          PAIRED  2016-02-26      1063   \n",
       "SRR3191544  SAMN04517927   SRX1602856          PAIRED  2016-02-26      1059   \n",
       "SRR3191545  SAMN04517928   SRX1602857          PAIRED  2016-02-26      1095   \n",
       "SRR3194428  SAMN04521221   SRX1605077          SINGLE  2016-02-29      5248   \n",
       "SRR3194429  SAMN04521222   SRX1605078          SINGLE  2016-02-29      6806   \n",
       "SRR3194430  SAMN04521223   SRX1605079          SINGLE  2016-02-29      5481   \n",
       "SRR3194431  SAMN04521224   SRX1605080          SINGLE  2016-02-29      4776   \n",
       "\n",
       "            MBytes_l SRA_Sample_s Sample_Name_s infection_status_s  \\\n",
       "SRR3191542       464   SRS1312741    GSM2073121      mock infected   \n",
       "SRR3191543       443   SRS1312740    GSM2073122      mock infected   \n",
       "SRR3191544       429   SRS1312738    GSM2073123      Zika infected   \n",
       "SRR3191545       445   SRS1312739    GSM2073124      Zika infected   \n",
       "SRR3194428      2383   SRS1314803    GSM2075585      mock infected   \n",
       "SRR3194429      3092   SRS1314802    GSM2075586      mock infected   \n",
       "SRR3194430      2495   SRS1314801    GSM2075587      Zika infected   \n",
       "SRR3194431      2181   SRS1314800    GSM2075588      Zika infected   \n",
       "\n",
       "           Assay_Type_s              ...                Library_Name_s  \\\n",
       "SRR3191542      RNA-Seq              ...                <not provided>   \n",
       "SRR3191543      RNA-Seq              ...                <not provided>   \n",
       "SRR3191544      RNA-Seq              ...                <not provided>   \n",
       "SRR3191545      RNA-Seq              ...                <not provided>   \n",
       "SRR3194428      RNA-Seq              ...                <not provided>   \n",
       "SRR3194429      RNA-Seq              ...                <not provided>   \n",
       "SRR3194430      RNA-Seq              ...                <not provided>   \n",
       "SRR3194431      RNA-Seq              ...                <not provided>   \n",
       "\n",
       "              Organism_s Platform_s ReleaseDate_s  SRA_Study_s  \\\n",
       "SRR3191542  Homo sapiens   ILLUMINA    2016-03-04    SRP070895   \n",
       "SRR3191543  Homo sapiens   ILLUMINA    2016-03-04    SRP070895   \n",
       "SRR3191544  Homo sapiens   ILLUMINA    2016-03-04    SRP070895   \n",
       "SRR3191545  Homo sapiens   ILLUMINA    2016-03-04    SRP070895   \n",
       "SRR3194428  Homo sapiens   ILLUMINA    2016-03-04    SRP070895   \n",
       "SRR3194429  Homo sapiens   ILLUMINA    2016-03-04    SRP070895   \n",
       "SRR3194430  Homo sapiens   ILLUMINA    2016-03-04    SRP070895   \n",
       "SRR3194431  Homo sapiens   ILLUMINA    2016-03-04    SRP070895   \n",
       "\n",
       "                        cell_type_s g1k_analysis_group_s  g1k_pop_code_s  \\\n",
       "SRR3191542  Neural Progenitor cells       <not provided>  <not provided>   \n",
       "SRR3191543  Neural Progenitor cells       <not provided>  <not provided>   \n",
       "SRR3191544  Neural Progenitor cells       <not provided>  <not provided>   \n",
       "SRR3191545  Neural Progenitor cells       <not provided>  <not provided>   \n",
       "SRR3194428  Neural Progenitor cells       <not provided>  <not provided>   \n",
       "SRR3194429  Neural Progenitor cells       <not provided>  <not provided>   \n",
       "SRR3194430  Neural Progenitor cells       <not provided>  <not provided>   \n",
       "SRR3194431  Neural Progenitor cells       <not provided>  <not provided>   \n",
       "\n",
       "                  source_s                  source_name_s  \n",
       "SRR3191542  <not provided>  human Neural Progenitor cells  \n",
       "SRR3191543  <not provided>  human Neural Progenitor cells  \n",
       "SRR3191544  <not provided>  human Neural Progenitor cells  \n",
       "SRR3191545  <not provided>  human Neural Progenitor cells  \n",
       "SRR3194428  <not provided>  human Neural Progenitor cells  \n",
       "SRR3194429  <not provided>  human Neural Progenitor cells  \n",
       "SRR3194430  <not provided>  human Neural Progenitor cells  \n",
       "SRR3194431  <not provided>  human Neural Progenitor cells  \n",
       "\n",
       "[8 rows x 27 columns]"
      ]
     },
     "execution_count": 10,
     "metadata": {},
     "output_type": "execute_result"
    }
   ],
   "source": [
    "meta_df = pd.read_csv('../SraRunTable.txt', sep='\\t').set_index('Run_s')\n",
    "print meta_df.shape\n",
    "# re-order the index to make it the same with expr_df\n",
    "meta_df = meta_df.ix[expr_df.columns]\n",
    "meta_df"
   ]
  },
  {
   "cell_type": "markdown",
   "metadata": {},
   "source": [
    "Now we have everything setup, the first thing to do is to generate PCA plots to observe whether the samples cluster\n",
    "as expected: controls with controls, treatments with treatments."
   ]
  },
  {
   "cell_type": "code",
   "execution_count": 11,
   "metadata": {
    "collapsed": false
   },
   "outputs": [],
   "source": [
    "import matplotlib.pyplot as plt\n",
    "from matplotlib import rcParams\n",
    "rcParams['pdf.fonttype'] = 42 ## Output Type 3 (Type3) or Type 42 (TrueType)\n",
    "rcParams['font.sans-serif'] = 'Arial'\n",
    "# ignore FutureWarning that may pop up when plotting\n",
    "import warnings\n",
    "warnings.filterwarnings(\"ignore\", category=FutureWarning) \n"
   ]
  },
  {
   "cell_type": "markdown",
   "metadata": {},
   "source": [
    "You can obtain the script [`RNAseq`](https://github.com/MaayanLab/Zika-RNAseq-Pipeline/blob/master/RNAseq.py) from this repo."
   ]
  },
  {
   "cell_type": "code",
   "execution_count": 12,
   "metadata": {
    "collapsed": true
   },
   "outputs": [],
   "source": [
    "import RNAseq"
   ]
  },
  {
   "cell_type": "code",
   "execution_count": 13,
   "metadata": {
    "collapsed": false
   },
   "outputs": [
    {
     "data": {
      "image/png": "[encoded data removed]",
      "text/plain": [
       "<matplotlib.figure.Figure at 0x1117ea610>"
      ]
     },
     "metadata": {},
     "output_type": "display_data"
    }
   ],
   "source": [
    "# plot PCA\n",
    "%matplotlib inline\n",
    "RNAseq.PCA_plot(expr_df.values, meta_df['infection_status_s'], \n",
    "         standardize=2, log=True, \n",
    "         show_text=False, sep=' ', legend_loc='upper right')"
   ]
  },
  {
   "cell_type": "markdown",
   "metadata": {},
   "source": [
    "The PCA plot below is the same as above, except that we color the samples by platform (two Illumina sequencing machines used: [Illumina MiSeq](http://www.ncbi.nlm.nih.gov/geo/query/acc.cgi?acc=GPL15520) and [Illumina NextSeq 500](http://www.ncbi.nlm.nih.gov/geo/query/acc.cgi?acc=GPL18573)). "
   ]
  },
  {
   "cell_type": "code",
   "execution_count": 14,
   "metadata": {
    "collapsed": false
   },
   "outputs": [
    {
     "data": {
      "image/png": "[encoded data removed]",
      "text/plain": [
       "<matplotlib.figure.Figure at 0x1117ea2d0>"
      ]
     },
     "metadata": {},
     "output_type": "display_data"
    }
   ],
   "source": [
    "RNAseq.PCA_plot(expr_df.values, meta_df['LibraryLayout_s'], \n",
    "         standardize=2, log=True, \n",
    "         show_text=False, sep=' ', legend_loc='upper right')"
   ]
  },
  {
   "cell_type": "markdown",
   "metadata": {},
   "source": [
    "Now we are ready to identify the differentially expressed genes between the two sets of samples: control versus treatment. We will achieve this using the [Characteristic Direction method](http://www.ncbi.nlm.nih.gov/pubmed/?term=24650281) published in _BMC Bioinformatics_ in 2014.\n",
    "\n",
    "An implementation in Python of the Characteristic Direction method can be downloaded and installed from:\n",
    "https://github.com/wangz10/geode."
   ]
  },
  {
   "cell_type": "code",
   "execution_count": 15,
   "metadata": {
    "collapsed": false
   },
   "outputs": [
    {
     "name": "stdout",
     "output_type": "stream",
     "text": [
      "{'PAIRED': array([1, 1, 2, 2, 0, 0, 0, 0], dtype=int32), 'SINGLE': array([0, 0, 0, 0, 1, 1, 2, 2], dtype=int32), 'combined': array([1, 1, 2, 2, 1, 1, 2, 2], dtype=int32)}\n",
      "                PAIRED    SINGLE  combined\n",
      "Unnamed: 0                                \n",
      "WASH7P       -0.000245 -0.000979 -0.000377\n",
      "LOC729737    -0.000131 -0.000539 -0.000201\n",
      "LOC100133331 -0.000756 -0.000859 -0.000706\n",
      "MIR6723      -0.001524 -0.000964 -0.001081\n",
      "LOC100288069 -0.000378 -0.000657 -0.000431\n"
     ]
    }
   ],
   "source": [
    "import geode\n",
    "d_layout_cd = {} # to top up/down genes\n",
    "cd_results = pd.DataFrame(index=expr_df.index)\n",
    "\n",
    "sample_classes = {}\n",
    "for layout in meta_df['LibraryLayout_s'].unique():\n",
    "    ## make sample_class \n",
    "    sample_class = np.zeros(expr_df.shape[1], dtype=np.int32)\n",
    "    sample_class[meta_df['LibraryLayout_s'].values == layout] = 1\n",
    "    sample_class[(meta_df['LibraryLayout_s'].values == layout) & \n",
    "                 (meta_df['infection_status_s'].values == 'Zika infected')] = 2\n",
    "    sample_classes[layout] = sample_class\n",
    "\n",
    "sample_classes['combined'] = sample_classes['PAIRED'] + sample_classes['SINGLE']\n",
    "print sample_classes\n",
    "\n",
    "for layout, sample_class in sample_classes.items():\n",
    "    cd_res = geode.chdir(expr_df.values, sample_class, expr_df.index, \n",
    "                      gamma=.5, sort=False, calculate_sig=False)\n",
    "    cd_coefs = np.array(map(lambda x: x[0], cd_res))\n",
    "    cd_results[layout] = cd_coefs\n",
    "    \n",
    "    # sort CD in by absolute values in descending order\n",
    "    srt_idx = np.abs(cd_coefs).argsort()[::-1]\n",
    "    cd_coefs = cd_coefs[srt_idx][:600]\n",
    "    sorted_DEGs = expr_df.index[srt_idx][:600]\n",
    "    # split up and down\n",
    "    up_genes = dict(zip(sorted_DEGs[cd_coefs > 0], cd_coefs[cd_coefs > 0]))\n",
    "    dn_genes = dict(zip(sorted_DEGs[cd_coefs < 0], cd_coefs[cd_coefs < 0]))\n",
    "    d_layout_cd[layout+'-up'] = up_genes\n",
    "    d_layout_cd[layout+'-dn'] = dn_genes\n",
    "\n",
    "print cd_results.head()"
   ]
  },
  {
   "cell_type": "code",
   "execution_count": 16,
   "metadata": {
    "collapsed": false
   },
   "outputs": [
    {
     "name": "stdout",
     "output_type": "stream",
     "text": [
      "PAIRED SINGLE 0.012346509286\n",
      "PAIRED combined 0.00305230907374\n",
      "SINGLE combined 0.00455841805086\n"
     ]
    }
   ],
   "source": [
    "## Check the cosine distance between the two signatures\n",
    "from scipy.spatial.distance import cosine\n",
    "from itertools import combinations\n",
    "for col1, col2 in combinations(cd_results.columns, 2):\n",
    "    print col1, col2, cosine(cd_results[col1], cd_results[col2])\n"
   ]
  },
  {
   "cell_type": "markdown",
   "metadata": {},
   "source": [
    "The following code generates links for gene set enrichment analysis with Enrichr. \n",
    "\n",
    "[Enrichr](http://amp.pharm.mssm.edu/Enrichr/) is gene set enrichment analysis tool that compare the up or down gene sets computed here with over ~180,000 annotated gene sets belonging to ~90 gene set libraries covering pathway, ontology, and disease databases."
   ]
  },
  {
   "cell_type": "code",
   "execution_count": 20,
   "metadata": {
    "collapsed": false
   },
   "outputs": [
    {
     "name": "stdout",
     "output_type": "stream",
     "text": [
      "SINGLE-dn http://amp.pharm.mssm.edu/Enrichr/enrich?dataset=5v70\n",
      "combined-up http://amp.pharm.mssm.edu/Enrichr/enrich?dataset=5v71\n",
      "SINGLE-up http://amp.pharm.mssm.edu/Enrichr/enrich?dataset=5v72\n",
      "PAIRED-dn http://amp.pharm.mssm.edu/Enrichr/enrich?dataset=5v73\n",
      "combined-dn http://amp.pharm.mssm.edu/Enrichr/enrich?dataset=5v74\n",
      "PAIRED-up http://amp.pharm.mssm.edu/Enrichr/enrich?dataset=5v75\n"
     ]
    }
   ],
   "source": [
    "for key, d in d_layout_cd.items():\n",
    "    genes = d_layout_cd[key].keys()\n",
    "    link = RNAseq.enrichr_link(genes)\n",
    "    print key, link"
   ]
  },
  {
   "cell_type": "code",
   "execution_count": 22,
   "metadata": {
    "collapsed": false
   },
   "outputs": [],
   "source": [
    "## generate Enrichr links for up/down genes in an Excel file with the gene sets.\n",
    "RNAseq.dict2xls_with_vals(d_layout_cd, ['gene', 'CD coef'], '../Enrichr_links_CD600.xls')"
   ]
  },
  {
   "cell_type": "code",
   "execution_count": 23,
   "metadata": {
    "collapsed": false
   },
   "outputs": [
    {
     "name": "stdout",
     "output_type": "stream",
     "text": [
      "[u'Enrichr_links', u'SINGLE-dn', u'combined-up', u'SINGLE-up', u'PAIRED-dn', u'combined-dn', u'PAIRED-up']\n"
     ]
    }
   ],
   "source": [
    "## Check the Enrichr results\n",
    "enrichr_results = pd.read_excel('../Enrichr_links_CD600.xls', sheetname=None)\n",
    "print enrichr_results.keys()"
   ]
  },
  {
   "cell_type": "code",
   "execution_count": 24,
   "metadata": {
    "collapsed": false
   },
   "outputs": [
    {
     "name": "stdout",
     "output_type": "stream",
     "text": [
      "PAIRED-dn 193 http://amp.pharm.mssm.edu/Enrichr/enrich?dataset=5v79\n",
      "PAIRED-up 407 http://amp.pharm.mssm.edu/Enrichr/enrich?dataset=5v7a\n",
      "SINGLE-dn 193 http://amp.pharm.mssm.edu/Enrichr/enrich?dataset=5v7b\n",
      "SINGLE-up 407 http://amp.pharm.mssm.edu/Enrichr/enrich?dataset=5v7c\n",
      "combined-dn 195 http://amp.pharm.mssm.edu/Enrichr/enrich?dataset=5v7d\n",
      "combined-up 405 http://amp.pharm.mssm.edu/Enrichr/enrich?dataset=5v7e\n"
     ]
    }
   ],
   "source": [
    "from pprint import pprint\n",
    "for i, row in enrichr_results['Enrichr_links'].iterrows():\n",
    "    print row['Gene list'], row['Size'], row['Link']"
   ]
  },
  {
   "cell_type": "markdown",
   "metadata": {},
   "source": [
    "[L1000CDS2](http://amp.pharm.mssm.edu/L1000CDS2/#/index) is a small molecule gene expression signature search engine. \n",
    "It contains gene expression signatures from ~30,000 small molecules. Users can search for small molecules that can potentially reverse or mimic the input gene expression signature.\n",
    "\n",
    "---\n",
    "\n",
    "The following code post the gene expression signatures induced by Zika infection to L1000CDS2 and print out the result URLs. "
   ]
  },
  {
   "cell_type": "code",
   "execution_count": 25,
   "metadata": {
    "collapsed": false
   },
   "outputs": [],
   "source": [
    "import requests, json\n",
    "def post_to_cds2(genes, vals, name=None, aggravate=False):\n",
    "    ## post CD signature to L1000CDS2 API and return a CDS2 url\n",
    "    url = 'http://amp.pharm.mssm.edu/L1000CDS2/query'\n",
    "    cds2_url = None\n",
    "\n",
    "    data = {\n",
    "        \"genes\": map(lambda x: x.upper(), genes), \n",
    "        \"vals\":  vals\n",
    "        }\n",
    "    config = {\"aggravate\":aggravate,\"searchMethod\":\"CD\",\"share\":True,\"combination\":True,\"db-version\":\"latest\"}\n",
    "    metadata = [{\"key\":\"name\",\"value\": name}]\n",
    "\n",
    "    payload = {\"data\":data,\"config\":config,\"meta\":metadata}\n",
    "    headers = {'content-type':'application/json'}\n",
    "    r = requests.post(url,data=json.dumps(payload),headers=headers)\n",
    "    resCD = r.json()\n",
    "    shareId = resCD['shareId']\n",
    "    cds2_url = 'http://amp.pharm.mssm.edu/L1000CDS2/#/result/' + shareId\n",
    "    return cds2_url"
   ]
  },
  {
   "cell_type": "code",
   "execution_count": 26,
   "metadata": {
    "collapsed": false
   },
   "outputs": [
    {
     "name": "stdout",
     "output_type": "stream",
     "text": [
      "PAIRED http://amp.pharm.mssm.edu/L1000CDS2/#/result/5716873abfccf1840181cf02\n",
      "SINGLE http://amp.pharm.mssm.edu/L1000CDS2/#/result/5716873dbfccf1840181cf04\n",
      "combined http://amp.pharm.mssm.edu/L1000CDS2/#/result/57168740bfccf1840181cf06\n"
     ]
    }
   ],
   "source": [
    "## get URL from L1000CDS2\n",
    "for col in cd_results:\n",
    "    res = cd_results[col].copy()\n",
    "    srt_idx = np.abs(res).argsort()\n",
    "    res = res[srt_idx]\n",
    "    genes = res[:2000].index.tolist()\n",
    "    vals = res[:2000].tolist()\n",
    "    cds2_url = post_to_cds2(genes, vals, name=col, aggravate=True)\n",
    "    print col, cds2_url"
   ]
  }
 ],
 "metadata": {
  "kernelspec": {
   "display_name": "Python 2",
   "language": "python",
   "name": "python2"
  },
  "language_info": {
   "codemirror_mode": {
    "name": "ipython",
    "version": 2
   },
   "file_extension": ".py",
   "mimetype": "text/x-python",
   "name": "python",
   "nbconvert_exporter": "python",
   "pygments_lexer": "ipython2",
   "version": "2.7.6"
  }
 },
 "nbformat": 4,
 "nbformat_minor": 0
}
